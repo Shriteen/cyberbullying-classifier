{
  "nbformat": 4,
  "nbformat_minor": 0,
  "metadata": {
    "colab": {
      "provenance": [],
      "authorship_tag": "ABX9TyO5/Pmbc4v63BZBM22x9sk5",
      "include_colab_link": true
    },
    "kernelspec": {
      "name": "python3",
      "display_name": "Python 3"
    },
    "language_info": {
      "name": "python"
    }
  },
  "cells": [
    {
      "cell_type": "markdown",
      "metadata": {
        "id": "view-in-github",
        "colab_type": "text"
      },
      "source": [
        "<a href=\"https://colab.research.google.com/github/Shriteen/cyberbullying-classifier/blob/shri3/training.ipynb\" target=\"_parent\"><img src=\"https://colab.research.google.com/assets/colab-badge.svg\" alt=\"Open In Colab\"/></a>"
      ]
    },
    {
      "cell_type": "code",
      "source": [
        "!git clone https://github.com/Shriteen/cyberbullying-classifier.git"
      ],
      "metadata": {
        "colab": {
          "base_uri": "https://localhost:8080/"
        },
        "id": "u75NKRN3hO4Q",
        "outputId": "a3e05087-8745-453d-f024-d20e387f4205"
      },
      "execution_count": 1,
      "outputs": [
        {
          "output_type": "stream",
          "name": "stdout",
          "text": [
            "Cloning into 'cyberbullying-classifier'...\n",
            "remote: Enumerating objects: 15, done.\u001b[K\n",
            "remote: Counting objects: 100% (15/15), done.\u001b[K\n",
            "remote: Compressing objects: 100% (14/14), done.\u001b[K\n",
            "remote: Total 15 (delta 5), reused 2 (delta 0), pack-reused 0\u001b[K\n",
            "Unpacking objects: 100% (15/15), 2.79 MiB | 4.45 MiB/s, done.\n"
          ]
        }
      ]
    },
    {
      "cell_type": "code",
      "source": [
        "!cp cyberbullying-classifier/cyberbullying_tweets.csv ."
      ],
      "metadata": {
        "id": "EqNoAnqHh26U"
      },
      "execution_count": 2,
      "outputs": []
    },
    {
      "cell_type": "markdown",
      "source": [
        "Import Dependancies"
      ],
      "metadata": {
        "id": "t8KACf78QhVn"
      }
    },
    {
      "cell_type": "code",
      "execution_count": 11,
      "metadata": {
        "id": "r_aE55gaOxPM"
      },
      "outputs": [],
      "source": [
        "import pandas as pd\n",
        "from sklearn.feature_extraction.text import TfidfVectorizer"
      ]
    },
    {
      "cell_type": "markdown",
      "source": [
        "Load data from dataset"
      ],
      "metadata": {
        "id": "h0na63u8Qsmg"
      }
    },
    {
      "cell_type": "code",
      "source": [
        "df= pd.read_csv(\"cyberbullying_tweets.csv\")\n",
        "df.columns = ['tweet_text', 'cyberbullying_type']\n",
        "\n",
        "# oversample not_cyberbullying\n",
        "df=pd.concat([df, df[df['cyberbullying_type']=='not_cyberbullying'] ])\n",
        "\n",
        "df['category_id']= df['cyberbullying_type'].factorize()[0]\n",
        "df.head()"
      ],
      "metadata": {
        "id": "Jczug1N6QwUb",
        "colab": {
          "base_uri": "https://localhost:8080/",
          "height": 206
        },
        "outputId": "d592d0b1-2de1-42ac-9175-5827049b5794"
      },
      "execution_count": 12,
      "outputs": [
        {
          "output_type": "execute_result",
          "data": {
            "text/plain": [
              "                                          tweet_text cyberbullying_type  \\\n",
              "0  In other words #katandandre, your food was cra...  not_cyberbullying   \n",
              "1  Why is #aussietv so white? #MKR #theblock #ImA...  not_cyberbullying   \n",
              "2  @XochitlSuckkks a classy whore? Or more red ve...  not_cyberbullying   \n",
              "3  @Jason_Gio meh. :P  thanks for the heads up, b...  not_cyberbullying   \n",
              "4  @RudhoeEnglish This is an ISIS account pretend...  not_cyberbullying   \n",
              "\n",
              "   category_id  \n",
              "0            0  \n",
              "1            0  \n",
              "2            0  \n",
              "3            0  \n",
              "4            0  "
            ],
            "text/html": [
              "\n",
              "  <div id=\"df-6a012543-98aa-40e5-b0bf-1e83cf1a10d9\">\n",
              "    <div class=\"colab-df-container\">\n",
              "      <div>\n",
              "<style scoped>\n",
              "    .dataframe tbody tr th:only-of-type {\n",
              "        vertical-align: middle;\n",
              "    }\n",
              "\n",
              "    .dataframe tbody tr th {\n",
              "        vertical-align: top;\n",
              "    }\n",
              "\n",
              "    .dataframe thead th {\n",
              "        text-align: right;\n",
              "    }\n",
              "</style>\n",
              "<table border=\"1\" class=\"dataframe\">\n",
              "  <thead>\n",
              "    <tr style=\"text-align: right;\">\n",
              "      <th></th>\n",
              "      <th>tweet_text</th>\n",
              "      <th>cyberbullying_type</th>\n",
              "      <th>category_id</th>\n",
              "    </tr>\n",
              "  </thead>\n",
              "  <tbody>\n",
              "    <tr>\n",
              "      <th>0</th>\n",
              "      <td>In other words #katandandre, your food was cra...</td>\n",
              "      <td>not_cyberbullying</td>\n",
              "      <td>0</td>\n",
              "    </tr>\n",
              "    <tr>\n",
              "      <th>1</th>\n",
              "      <td>Why is #aussietv so white? #MKR #theblock #ImA...</td>\n",
              "      <td>not_cyberbullying</td>\n",
              "      <td>0</td>\n",
              "    </tr>\n",
              "    <tr>\n",
              "      <th>2</th>\n",
              "      <td>@XochitlSuckkks a classy whore? Or more red ve...</td>\n",
              "      <td>not_cyberbullying</td>\n",
              "      <td>0</td>\n",
              "    </tr>\n",
              "    <tr>\n",
              "      <th>3</th>\n",
              "      <td>@Jason_Gio meh. :P  thanks for the heads up, b...</td>\n",
              "      <td>not_cyberbullying</td>\n",
              "      <td>0</td>\n",
              "    </tr>\n",
              "    <tr>\n",
              "      <th>4</th>\n",
              "      <td>@RudhoeEnglish This is an ISIS account pretend...</td>\n",
              "      <td>not_cyberbullying</td>\n",
              "      <td>0</td>\n",
              "    </tr>\n",
              "  </tbody>\n",
              "</table>\n",
              "</div>\n",
              "      <button class=\"colab-df-convert\" onclick=\"convertToInteractive('df-6a012543-98aa-40e5-b0bf-1e83cf1a10d9')\"\n",
              "              title=\"Convert this dataframe to an interactive table.\"\n",
              "              style=\"display:none;\">\n",
              "        \n",
              "  <svg xmlns=\"http://www.w3.org/2000/svg\" height=\"24px\"viewBox=\"0 0 24 24\"\n",
              "       width=\"24px\">\n",
              "    <path d=\"M0 0h24v24H0V0z\" fill=\"none\"/>\n",
              "    <path d=\"M18.56 5.44l.94 2.06.94-2.06 2.06-.94-2.06-.94-.94-2.06-.94 2.06-2.06.94zm-11 1L8.5 8.5l.94-2.06 2.06-.94-2.06-.94L8.5 2.5l-.94 2.06-2.06.94zm10 10l.94 2.06.94-2.06 2.06-.94-2.06-.94-.94-2.06-.94 2.06-2.06.94z\"/><path d=\"M17.41 7.96l-1.37-1.37c-.4-.4-.92-.59-1.43-.59-.52 0-1.04.2-1.43.59L10.3 9.45l-7.72 7.72c-.78.78-.78 2.05 0 2.83L4 21.41c.39.39.9.59 1.41.59.51 0 1.02-.2 1.41-.59l7.78-7.78 2.81-2.81c.8-.78.8-2.07 0-2.86zM5.41 20L4 18.59l7.72-7.72 1.47 1.35L5.41 20z\"/>\n",
              "  </svg>\n",
              "      </button>\n",
              "      \n",
              "  <style>\n",
              "    .colab-df-container {\n",
              "      display:flex;\n",
              "      flex-wrap:wrap;\n",
              "      gap: 12px;\n",
              "    }\n",
              "\n",
              "    .colab-df-convert {\n",
              "      background-color: #E8F0FE;\n",
              "      border: none;\n",
              "      border-radius: 50%;\n",
              "      cursor: pointer;\n",
              "      display: none;\n",
              "      fill: #1967D2;\n",
              "      height: 32px;\n",
              "      padding: 0 0 0 0;\n",
              "      width: 32px;\n",
              "    }\n",
              "\n",
              "    .colab-df-convert:hover {\n",
              "      background-color: #E2EBFA;\n",
              "      box-shadow: 0px 1px 2px rgba(60, 64, 67, 0.3), 0px 1px 3px 1px rgba(60, 64, 67, 0.15);\n",
              "      fill: #174EA6;\n",
              "    }\n",
              "\n",
              "    [theme=dark] .colab-df-convert {\n",
              "      background-color: #3B4455;\n",
              "      fill: #D2E3FC;\n",
              "    }\n",
              "\n",
              "    [theme=dark] .colab-df-convert:hover {\n",
              "      background-color: #434B5C;\n",
              "      box-shadow: 0px 1px 3px 1px rgba(0, 0, 0, 0.15);\n",
              "      filter: drop-shadow(0px 1px 2px rgba(0, 0, 0, 0.3));\n",
              "      fill: #FFFFFF;\n",
              "    }\n",
              "  </style>\n",
              "\n",
              "      <script>\n",
              "        const buttonEl =\n",
              "          document.querySelector('#df-6a012543-98aa-40e5-b0bf-1e83cf1a10d9 button.colab-df-convert');\n",
              "        buttonEl.style.display =\n",
              "          google.colab.kernel.accessAllowed ? 'block' : 'none';\n",
              "\n",
              "        async function convertToInteractive(key) {\n",
              "          const element = document.querySelector('#df-6a012543-98aa-40e5-b0bf-1e83cf1a10d9');\n",
              "          const dataTable =\n",
              "            await google.colab.kernel.invokeFunction('convertToInteractive',\n",
              "                                                     [key], {});\n",
              "          if (!dataTable) return;\n",
              "\n",
              "          const docLinkHtml = 'Like what you see? Visit the ' +\n",
              "            '<a target=\"_blank\" href=https://colab.research.google.com/notebooks/data_table.ipynb>data table notebook</a>'\n",
              "            + ' to learn more about interactive tables.';\n",
              "          element.innerHTML = '';\n",
              "          dataTable['output_type'] = 'display_data';\n",
              "          await google.colab.output.renderOutput(dataTable, element);\n",
              "          const docLink = document.createElement('div');\n",
              "          docLink.innerHTML = docLinkHtml;\n",
              "          element.appendChild(docLink);\n",
              "        }\n",
              "      </script>\n",
              "    </div>\n",
              "  </div>\n",
              "  "
            ]
          },
          "metadata": {},
          "execution_count": 12
        }
      ]
    },
    {
      "cell_type": "markdown",
      "source": [
        "Create dictionaries to simplify future use"
      ],
      "metadata": {
        "id": "7NFPjE9mPie1"
      }
    },
    {
      "cell_type": "code",
      "source": [
        "category_id_df = df[['cyberbullying_type', 'category_id']].drop_duplicates().sort_values('category_id')\n",
        "category_to_id = dict(category_id_df.values)\n",
        "id_to_category = dict(category_id_df[['category_id', 'cyberbullying_type']].values)"
      ],
      "metadata": {
        "id": "88MYEgwePsnL"
      },
      "execution_count": 13,
      "outputs": []
    },
    {
      "cell_type": "markdown",
      "source": [
        "Create tf-idf vector object\n",
        "- sublinear to use a logarithmic form for frequency     \n",
        "- min_df = 5 means ignore tokens with count lower than 5\n",
        "- norm='l2' used to convert vector to unit vector       \n",
        "- ngram_range is to include uni,bi and trigrams         \n",
        "- stop_words is to ignore english stop words            "
      ],
      "metadata": {
        "id": "PW7mLZb9Si8F"
      }
    },
    {
      "cell_type": "code",
      "source": [
        "tfidf= TfidfVectorizer(sublinear_tf=True,\n",
        "                           min_df=8,\n",
        "                           norm='l2',\n",
        "                           ngram_range=(1,3),\n",
        "                           encoding='latin-1',\n",
        "                           stop_words=\"english\")\n"
      ],
      "metadata": {
        "id": "cMS5x-U3S9eq"
      },
      "execution_count": 14,
      "outputs": []
    },
    {
      "cell_type": "markdown",
      "source": [
        "Convert text to vector form"
      ],
      "metadata": {
        "id": "RPZIA02yS1VZ"
      }
    },
    {
      "cell_type": "code",
      "source": [
        "features= tfidf.fit_transform(df.tweet_text).toarray()\n",
        "labels= df.category_id\n",
        "features.shape\n"
      ],
      "metadata": {
        "colab": {
          "base_uri": "https://localhost:8080/"
        },
        "id": "3SeZMEoLTDT9",
        "outputId": "4d000753-2162-45e3-8696-3d884e5434ce"
      },
      "execution_count": 15,
      "outputs": [
        {
          "output_type": "execute_result",
          "data": {
            "text/plain": [
              "(55637, 14165)"
            ]
          },
          "metadata": {},
          "execution_count": 15
        }
      ]
    },
    {
      "cell_type": "markdown",
      "source": [
        "Extract and Display the top features of each category"
      ],
      "metadata": {
        "id": "0HbxTu_dXdx5"
      }
    },
    {
      "cell_type": "code",
      "source": [
        "from sklearn.feature_selection import chi2\n",
        "import numpy as np\n",
        "\n",
        "for category,category_id in sorted(category_to_id.items()):\n",
        "  features_chi2= chi2(features, labels==category_id )\n",
        "  indices = np.argsort(features_chi2[0])\n",
        "  feature_names= np.array(tfidf.get_feature_names_out())[indices]\n",
        "\n",
        "  unigrams = [v for v in feature_names if len(v.split(' ')) == 1]\n",
        "  bigrams = [v for v in feature_names if len(v.split(' ')) == 2]\n",
        "  trigrams = [v for v in feature_names if len(v.split(' ')) == 3]\n",
        "  \n",
        "  print('#'+category)\n",
        "  print('Unigrams:',','.join(unigrams[-5:]))\n",
        "  print('Bigrams:',','.join(bigrams[-5:]))\n",
        "  print('Trigrams:',','.join(trigrams[-5:]))\n",
        "  "
      ],
      "metadata": {
        "colab": {
          "base_uri": "https://localhost:8080/"
        },
        "id": "jSW09p9vl7p-",
        "outputId": "c53d6b71-0c6b-410e-b128-40d0352484b2"
      },
      "execution_count": 16,
      "outputs": [
        {
          "output_type": "stream",
          "name": "stdout",
          "text": [
            "#age\n",
            "Unigrams: girl,bullies,bullied,high,school\n",
            "Bigrams: girl bullied,girls bullied,school bully,bullied high,high school\n",
            "Trigrams: high school bullies,high school bully,girl bullied high,girls bullied high,bullied high school\n",
            "#ethnicity\n",
            "Unigrams: ass,niggers,fuck,nigger,dumb\n",
            "Bigrams: fuck obama,dumb fuck,ass nigger,dumb nigger,dumb ass\n",
            "Trigrams: fuck dumb nigger,tayyoung_ fuck obama,obama dumb ass,fuck obama dumb,dumb ass nigger\n",
            "#gender\n",
            "Unigrams: sexist,joke,jokes,gay,rape\n",
            "Bigrams: jokes rape,gay rape,gay jokes,rape joke,rape jokes\n",
            "Trigrams: gay rape joke,jokes rape jokes,jokes gay jokes,rape jokes gay,gay rape jokes\n",
            "#not_cyberbullying\n",
            "Unigrams: http,nigger,dumb,bullying,mkr\n",
            "Bigrams: dumb nigger,bullied high,dumb ass,kat andre,high school\n",
            "Trigrams: tayyoung_ fuck obama,obama dumb ass,fuck obama dumb,dumb ass nigger,bullied high school\n",
            "#other_cyberbullying\n",
            "Unigrams: freebsdgirl,dumb,school,blameonenotall,https\n",
            "Bigrams: maine coon,bully lol,blameonenotall http,idiot https,high school\n",
            "Trigrams: tayyoung_ fuck obama,obama dumb ass,fuck obama dumb,dumb ass nigger,bullied high school\n",
            "#religion\n",
            "Unigrams: islamic,idiot,christian,muslim,muslims\n",
            "Bigrams: support radical,good christian,radical islamic,christian woman,islamic terrorism\n",
            "Trigrams: right christian woman,vandaliser sajid_fairooz israeliregime,christian woman right,good christian woman,radical islamic terrorism\n"
          ]
        }
      ]
    },
    {
      "cell_type": "markdown",
      "source": [
        "Try with different algorithms"
      ],
      "metadata": {
        "id": "RIwFVcPSsKpO"
      }
    },
    {
      "cell_type": "code",
      "source": [
        "from sklearn.linear_model import LogisticRegression\n",
        "from sklearn.ensemble import RandomForestClassifier\n",
        "from sklearn.svm import LinearSVC\n",
        "\n",
        "from sklearn.model_selection import cross_val_score\n",
        "\n",
        "models=[ RandomForestClassifier(n_estimators=200, max_depth=3, random_state=0),\n",
        "         MultinomialNB() ]\n",
        "\n",
        "CV=5\n",
        "cv_df= pd.DataFrame(index=range(CV* len(models)))\n",
        "entries=[]\n",
        "\n",
        "for model in models:\n",
        "  model_name= model.__class__.__name__\n",
        "  accuracies= cross_val_score(model, features, labels, scoring='accuracy', cv=CV)\n",
        "  for fold_idx, accuracy in enumerate(accuracies):\n",
        "    entries.append((model_name,fold_idx,accuracy))\n",
        "cv_df= pd.DataFrame(entries, columns=['model_name','fold_idx','accuracy'])\n",
        "\n",
        "import seaborn as sns\n",
        "import matplotlib.pyplot as plt\n",
        "sns.boxplot(x='model_name', y='accuracy', data=cv_df)\n",
        "sns.stripplot(x='model_name', y='accuracy', data=cv_df, size=8, jitter=True, edgecolor=\"gray\", linewidth=2)\n",
        "plt.show()\n"
      ],
      "metadata": {
        "colab": {
          "base_uri": "https://localhost:8080/",
          "height": 450
        },
        "id": "X_AkWd00sUx_",
        "outputId": "52b806b8-3970-4e60-a6e7-450fcc0f769c"
      },
      "execution_count": 17,
      "outputs": [
        {
          "output_type": "display_data",
          "data": {
            "text/plain": [
              "<Figure size 640x480 with 1 Axes>"
            ],
            "image/png": "[encoded data removed]"
          },
          "metadata": {}
        }
      ]
    },
    {
      "cell_type": "markdown",
      "source": [
        "Display accuracy of algorithms"
      ],
      "metadata": {
        "id": "TdLKenRZrGyF"
      }
    },
    {
      "cell_type": "code",
      "source": [
        "cv_df.groupby('model_name').accuracy.mean()"
      ],
      "metadata": {
        "colab": {
          "base_uri": "https://localhost:8080/"
        },
        "id": "jrKcHol00Ixr",
        "outputId": "fde65471-0253-4d91-b6e3-7e14b303746b"
      },
      "execution_count": 18,
      "outputs": [
        {
          "output_type": "execute_result",
          "data": {
            "text/plain": [
              "model_name\n",
              "MultinomialNB             0.790158\n",
              "RandomForestClassifier    0.345166\n",
              "Name: accuracy, dtype: float64"
            ]
          },
          "metadata": {},
          "execution_count": 18
        }
      ]
    },
    {
      "cell_type": "markdown",
      "source": [
        "Plot confusion matrix"
      ],
      "metadata": {
        "id": "eNRUK7rVrNcC"
      }
    },
    {
      "cell_type": "code",
      "source": [
        "import seaborn as sns\n",
        "import matplotlib.pyplot as plt\n",
        "from sklearn.model_selection import train_test_split\n",
        "from sklearn.feature_extraction.text import CountVectorizer\n",
        "from sklearn.feature_extraction.text import TfidfTransformer\n",
        "from sklearn.naive_bayes import MultinomialNB\n",
        "\n",
        "model= MultinomialNB(class_prior=[0.05,0.05,0.05,0.1,0.07,0.05])\n",
        "\n",
        "X_train, X_test, y_train, y_test, indices_train, indices_test = train_test_split(features,labels,df.index,test_size=0.33, random_state=0)\n",
        "\n",
        "model.fit(X_train,y_train)\n",
        "\n",
        "y_pred= model.predict(X_test)\n",
        "\n",
        "from sklearn.metrics import confusion_matrix\n",
        "\n",
        "conf_mat= confusion_matrix(y_test, y_pred)\n",
        "\n",
        "fig,ax = plt.subplots(figsize=(10,10))\n",
        "sns.heatmap(conf_mat, annot=True, fmt='d', \n",
        "            xticklabels=category_id_df.cyberbullying_type.values, \n",
        "            yticklabels=category_id_df.cyberbullying_type.values)\n",
        "plt.ylabel('Actual')\n",
        "plt.xlabel('Predicted')\n",
        "plt.show()"
      ],
      "metadata": {
        "colab": {
          "base_uri": "https://localhost:8080/",
          "height": 808
        },
        "id": "u_HphYexOwmb",
        "outputId": "cc6b5852-aad5-43f9-8693-0372ede09153"
      },
      "execution_count": 19,
      "outputs": [
        {
          "output_type": "display_data",
          "data": {
            "text/plain": [
              "<Figure size 1000x1000 with 2 Axes>"
            ],
            "image/png": "[encoded data removed]"
          },
          "metadata": {}
        }
      ]
    },
    {
      "cell_type": "code",
      "source": [
        "from sklearn import metrics\n",
        "print(metrics.classification_report(y_test, y_pred, target_names=df['cyberbullying_type'].unique()))"
      ],
      "metadata": {
        "colab": {
          "base_uri": "https://localhost:8080/"
        },
        "id": "VT2oGHIVLaEM",
        "outputId": "b295b465-063f-41ab-ffc4-b08547bb3561"
      },
      "execution_count": 20,
      "outputs": [
        {
          "output_type": "stream",
          "name": "stdout",
          "text": [
            "                     precision    recall  f1-score   support\n",
            "\n",
            "  not_cyberbullying       0.86      0.42      0.57      5262\n",
            "             gender       0.93      0.76      0.84      2641\n",
            "           religion       0.85      0.96      0.90      2597\n",
            "other_cyberbullying       0.44      0.83      0.57      2635\n",
            "                age       0.81      0.97      0.88      2597\n",
            "          ethnicity       0.93      0.89      0.91      2629\n",
            "\n",
            "           accuracy                           0.75     18361\n",
            "          macro avg       0.80      0.81      0.78     18361\n",
            "       weighted avg       0.81      0.75      0.75     18361\n",
            "\n"
          ]
        }
      ]
    },
    {
      "cell_type": "markdown",
      "source": [
        "Train model using Naive Bayes"
      ],
      "metadata": {
        "id": "z87hhNQonhMV"
      }
    },
    {
      "cell_type": "code",
      "source": [
        "from sklearn.model_selection import train_test_split\n",
        "from sklearn.feature_extraction.text import CountVectorizer\n",
        "from sklearn.feature_extraction.text import TfidfTransformer\n",
        "from sklearn.naive_bayes import MultinomialNB\n",
        "\n",
        "X_train, X_test, y_train, y_test = train_test_split(df['tweet_text'],df['cyberbullying_type'], random_state=0)\n",
        "count_vect= CountVectorizer()\n",
        "X_train_counts= count_vect.fit_transform(X_train)\n",
        "tfidf_transformer= TfidfTransformer()\n",
        "X_train_tfidf= tfidf_transformer.fit_transform(X_train_counts)\n",
        "\n",
        "classifier= MultinomialNB(class_prior=[0.05,0.05,0.05,0.1,0.07,0.05]).fit(X_train_tfidf, y_train)"
      ],
      "metadata": {
        "id": "57u2BqjrnmcY"
      },
      "execution_count": 21,
      "outputs": []
    },
    {
      "cell_type": "markdown",
      "source": [
        "Prediction Test field"
      ],
      "metadata": {
        "id": "nhaJRucsrjwL"
      }
    },
    {
      "cell_type": "code",
      "source": [
        "classifier.predict( count_vect.transform([\"Test of model \"]) )"
      ],
      "metadata": {
        "colab": {
          "base_uri": "https://localhost:8080/"
        },
        "id": "p1orSifgpa68",
        "outputId": "08e08cbc-0aad-44a0-81f2-31a40a79da95"
      },
      "execution_count": 24,
      "outputs": [
        {
          "output_type": "execute_result",
          "data": {
            "text/plain": [
              "array(['not_cyberbullying'], dtype='<U19')"
            ]
          },
          "metadata": {},
          "execution_count": 24
        }
      ]
    }
  ]
}