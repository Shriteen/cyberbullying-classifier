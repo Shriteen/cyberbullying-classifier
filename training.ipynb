{
  "nbformat": 4,
  "nbformat_minor": 0,
  "metadata": {
    "colab": {
      "provenance": [],
      "authorship_tag": "ABX9TyPxRYo3ykJoQI2CXZwkY6rV",
      "include_colab_link": true
    },
    "kernelspec": {
      "name": "python3",
      "display_name": "Python 3"
    },
    "language_info": {
      "name": "python"
    }
  },
  "cells": [
    {
      "cell_type": "markdown",
      "metadata": {
        "id": "view-in-github",
        "colab_type": "text"
      },
      "source": [
        "<a href=\"https://colab.research.google.com/github/Shriteen/cyberbullying-classifier/blob/shri3/training.ipynb\" target=\"_parent\"><img src=\"https://colab.research.google.com/assets/colab-badge.svg\" alt=\"Open In Colab\"/></a>"
      ]
    },
    {
      "cell_type": "code",
      "source": [
        "!git clone https://github.com/Shriteen/cyberbullying-classifier.git"
      ],
      "metadata": {
        "colab": {
          "base_uri": "https://localhost:8080/"
        },
        "id": "u75NKRN3hO4Q",
        "outputId": "c5aeab28-6ecb-4d63-d88d-06f3bff51c9a"
      },
      "execution_count": 2,
      "outputs": [
        {
          "output_type": "stream",
          "name": "stdout",
          "text": [
            "fatal: destination path 'cyberbullying-classifier' already exists and is not an empty directory.\n"
          ]
        }
      ]
    },
    {
      "cell_type": "code",
      "source": [
        "!cp cyberbullying-classifier/cyberbullying_tweets.csv ."
      ],
      "metadata": {
        "id": "EqNoAnqHh26U"
      },
      "execution_count": 3,
      "outputs": []
    },
    {
      "cell_type": "markdown",
      "source": [
        "Import Dependancies"
      ],
      "metadata": {
        "id": "t8KACf78QhVn"
      }
    },
    {
      "cell_type": "code",
      "execution_count": 4,
      "metadata": {
        "id": "r_aE55gaOxPM"
      },
      "outputs": [],
      "source": [
        "import pandas as pd\n",
        "from sklearn.feature_extraction.text import TfidfVectorizer"
      ]
    },
    {
      "cell_type": "markdown",
      "source": [
        "Load data from dataset"
      ],
      "metadata": {
        "id": "h0na63u8Qsmg"
      }
    },
    {
      "cell_type": "code",
      "source": [
        "df= pd.read_csv(\"cyberbullying_tweets.csv\")\n",
        "df.columns = ['tweet_text', 'cyberbullying_type']\n",
        "df['category_id']= df['cyberbullying_type'].factorize()[0]\n",
        "df.head()"
      ],
      "metadata": {
        "id": "Jczug1N6QwUb",
        "colab": {
          "base_uri": "https://localhost:8080/",
          "height": 206
        },
        "outputId": "9b7a4a55-cde3-49a6-caf7-97af19636524"
      },
      "execution_count": 5,
      "outputs": [
        {
          "output_type": "execute_result",
          "data": {
            "text/plain": [
              "                                          tweet_text cyberbullying_type  \\\n",
              "0  In other words #katandandre, your food was cra...  not_cyberbullying   \n",
              "1  Why is #aussietv so white? #MKR #theblock #ImA...  not_cyberbullying   \n",
              "2  @XochitlSuckkks a classy whore? Or more red ve...  not_cyberbullying   \n",
              "3  @Jason_Gio meh. :P  thanks for the heads up, b...  not_cyberbullying   \n",
              "4  @RudhoeEnglish This is an ISIS account pretend...  not_cyberbullying   \n",
              "\n",
              "   category_id  \n",
              "0            0  \n",
              "1            0  \n",
              "2            0  \n",
              "3            0  \n",
              "4            0  "
            ],
            "text/html": [
              "\n",
              "  <div id=\"df-63ae31f4-c5fc-4c83-aa59-8785489dac4c\">\n",
              "    <div class=\"colab-df-container\">\n",
              "      <div>\n",
              "<style scoped>\n",
              "    .dataframe tbody tr th:only-of-type {\n",
              "        vertical-align: middle;\n",
              "    }\n",
              "\n",
              "    .dataframe tbody tr th {\n",
              "        vertical-align: top;\n",
              "    }\n",
              "\n",
              "    .dataframe thead th {\n",
              "        text-align: right;\n",
              "    }\n",
              "</style>\n",
              "<table border=\"1\" class=\"dataframe\">\n",
              "  <thead>\n",
              "    <tr style=\"text-align: right;\">\n",
              "      <th></th>\n",
              "      <th>tweet_text</th>\n",
              "      <th>cyberbullying_type</th>\n",
              "      <th>category_id</th>\n",
              "    </tr>\n",
              "  </thead>\n",
              "  <tbody>\n",
              "    <tr>\n",
              "      <th>0</th>\n",
              "      <td>In other words #katandandre, your food was cra...</td>\n",
              "      <td>not_cyberbullying</td>\n",
              "      <td>0</td>\n",
              "    </tr>\n",
              "    <tr>\n",
              "      <th>1</th>\n",
              "      <td>Why is #aussietv so white? #MKR #theblock #ImA...</td>\n",
              "      <td>not_cyberbullying</td>\n",
              "      <td>0</td>\n",
              "    </tr>\n",
              "    <tr>\n",
              "      <th>2</th>\n",
              "      <td>@XochitlSuckkks a classy whore? Or more red ve...</td>\n",
              "      <td>not_cyberbullying</td>\n",
              "      <td>0</td>\n",
              "    </tr>\n",
              "    <tr>\n",
              "      <th>3</th>\n",
              "      <td>@Jason_Gio meh. :P  thanks for the heads up, b...</td>\n",
              "      <td>not_cyberbullying</td>\n",
              "      <td>0</td>\n",
              "    </tr>\n",
              "    <tr>\n",
              "      <th>4</th>\n",
              "      <td>@RudhoeEnglish This is an ISIS account pretend...</td>\n",
              "      <td>not_cyberbullying</td>\n",
              "      <td>0</td>\n",
              "    </tr>\n",
              "  </tbody>\n",
              "</table>\n",
              "</div>\n",
              "      <button class=\"colab-df-convert\" onclick=\"convertToInteractive('df-63ae31f4-c5fc-4c83-aa59-8785489dac4c')\"\n",
              "              title=\"Convert this dataframe to an interactive table.\"\n",
              "              style=\"display:none;\">\n",
              "        \n",
              "  <svg xmlns=\"http://www.w3.org/2000/svg\" height=\"24px\"viewBox=\"0 0 24 24\"\n",
              "       width=\"24px\">\n",
              "    <path d=\"M0 0h24v24H0V0z\" fill=\"none\"/>\n",
              "    <path d=\"M18.56 5.44l.94 2.06.94-2.06 2.06-.94-2.06-.94-.94-2.06-.94 2.06-2.06.94zm-11 1L8.5 8.5l.94-2.06 2.06-.94-2.06-.94L8.5 2.5l-.94 2.06-2.06.94zm10 10l.94 2.06.94-2.06 2.06-.94-2.06-.94-.94-2.06-.94 2.06-2.06.94z\"/><path d=\"M17.41 7.96l-1.37-1.37c-.4-.4-.92-.59-1.43-.59-.52 0-1.04.2-1.43.59L10.3 9.45l-7.72 7.72c-.78.78-.78 2.05 0 2.83L4 21.41c.39.39.9.59 1.41.59.51 0 1.02-.2 1.41-.59l7.78-7.78 2.81-2.81c.8-.78.8-2.07 0-2.86zM5.41 20L4 18.59l7.72-7.72 1.47 1.35L5.41 20z\"/>\n",
              "  </svg>\n",
              "      </button>\n",
              "      \n",
              "  <style>\n",
              "    .colab-df-container {\n",
              "      display:flex;\n",
              "      flex-wrap:wrap;\n",
              "      gap: 12px;\n",
              "    }\n",
              "\n",
              "    .colab-df-convert {\n",
              "      background-color: #E8F0FE;\n",
              "      border: none;\n",
              "      border-radius: 50%;\n",
              "      cursor: pointer;\n",
              "      display: none;\n",
              "      fill: #1967D2;\n",
              "      height: 32px;\n",
              "      padding: 0 0 0 0;\n",
              "      width: 32px;\n",
              "    }\n",
              "\n",
              "    .colab-df-convert:hover {\n",
              "      background-color: #E2EBFA;\n",
              "      box-shadow: 0px 1px 2px rgba(60, 64, 67, 0.3), 0px 1px 3px 1px rgba(60, 64, 67, 0.15);\n",
              "      fill: #174EA6;\n",
              "    }\n",
              "\n",
              "    [theme=dark] .colab-df-convert {\n",
              "      background-color: #3B4455;\n",
              "      fill: #D2E3FC;\n",
              "    }\n",
              "\n",
              "    [theme=dark] .colab-df-convert:hover {\n",
              "      background-color: #434B5C;\n",
              "      box-shadow: 0px 1px 3px 1px rgba(0, 0, 0, 0.15);\n",
              "      filter: drop-shadow(0px 1px 2px rgba(0, 0, 0, 0.3));\n",
              "      fill: #FFFFFF;\n",
              "    }\n",
              "  </style>\n",
              "\n",
              "      <script>\n",
              "        const buttonEl =\n",
              "          document.querySelector('#df-63ae31f4-c5fc-4c83-aa59-8785489dac4c button.colab-df-convert');\n",
              "        buttonEl.style.display =\n",
              "          google.colab.kernel.accessAllowed ? 'block' : 'none';\n",
              "\n",
              "        async function convertToInteractive(key) {\n",
              "          const element = document.querySelector('#df-63ae31f4-c5fc-4c83-aa59-8785489dac4c');\n",
              "          const dataTable =\n",
              "            await google.colab.kernel.invokeFunction('convertToInteractive',\n",
              "                                                     [key], {});\n",
              "          if (!dataTable) return;\n",
              "\n",
              "          const docLinkHtml = 'Like what you see? Visit the ' +\n",
              "            '<a target=\"_blank\" href=https://colab.research.google.com/notebooks/data_table.ipynb>data table notebook</a>'\n",
              "            + ' to learn more about interactive tables.';\n",
              "          element.innerHTML = '';\n",
              "          dataTable['output_type'] = 'display_data';\n",
              "          await google.colab.output.renderOutput(dataTable, element);\n",
              "          const docLink = document.createElement('div');\n",
              "          docLink.innerHTML = docLinkHtml;\n",
              "          element.appendChild(docLink);\n",
              "        }\n",
              "      </script>\n",
              "    </div>\n",
              "  </div>\n",
              "  "
            ]
          },
          "metadata": {},
          "execution_count": 5
        }
      ]
    },
    {
      "cell_type": "markdown",
      "source": [
        "Create tf-idf vector object\n",
        "- sublinear to use a logarithmic form for frequency     \n",
        "- min_df = 5 means ignore tokens with count lower than 5\n",
        "- norm='l2' used to convert vector to unit vector       \n",
        "- ngram_range is to include uni,bi and trigrams         \n",
        "- stop_words is to ignore english stop words            "
      ],
      "metadata": {
        "id": "PW7mLZb9Si8F"
      }
    },
    {
      "cell_type": "code",
      "source": [
        "tfidf= TfidfVectorizer(sublinear_tf=True,\n",
        "                           min_df=8,\n",
        "                           norm='l2',\n",
        "                           ngram_range=(1,3),\n",
        "                           encoding='latin-1',\n",
        "                           stop_words=\"english\")\n"
      ],
      "metadata": {
        "id": "cMS5x-U3S9eq"
      },
      "execution_count": 25,
      "outputs": []
    },
    {
      "cell_type": "markdown",
      "source": [
        "Convert text to vector form"
      ],
      "metadata": {
        "id": "RPZIA02yS1VZ"
      }
    },
    {
      "cell_type": "code",
      "source": [
        "features= tfidf.fit_transform(df.tweet_text).toarray()\n",
        "labels= df.category_id\n",
        "features.shape\n"
      ],
      "metadata": {
        "colab": {
          "base_uri": "https://localhost:8080/"
        },
        "id": "3SeZMEoLTDT9",
        "outputId": "ae54632c-e17e-4d27-ba2b-b517f8afb853"
      },
      "execution_count": 26,
      "outputs": [
        {
          "output_type": "execute_result",
          "data": {
            "text/plain": [
              "(47692, 12556)"
            ]
          },
          "metadata": {},
          "execution_count": 26
        }
      ]
    },
    {
      "cell_type": "markdown",
      "source": [
        "Extract and Display the top features of each category"
      ],
      "metadata": {
        "id": "0HbxTu_dXdx5"
      }
    },
    {
      "cell_type": "code",
      "source": [
        "from sklearn.feature_selection import chi2\n",
        "import numpy as np\n",
        "\n",
        "for category,category_id in sorted(category_to_id.items()):\n",
        "  features_chi2= chi2(features, labels==category_id )\n",
        "  indices = np.argsort(features_chi2[0])\n",
        "  feature_names= np.array(tfidf.get_feature_names_out())[indices]\n",
        "\n",
        "  unigrams = [v for v in feature_names if len(v.split(' ')) == 1]\n",
        "  bigrams = [v for v in feature_names if len(v.split(' ')) == 2]\n",
        "  trigrams = [v for v in feature_names if len(v.split(' ')) == 3]\n",
        "  \n",
        "  print('#'+category)\n",
        "  print('Unigrams:',','.join(unigrams[-5:]))\n",
        "  print('Bigrams:',','.join(bigrams[-5:]))\n",
        "  print('Trigrams:',','.join(trigrams[-5:]))\n",
        "  "
      ],
      "metadata": {
        "colab": {
          "base_uri": "https://localhost:8080/"
        },
        "id": "jSW09p9vl7p-",
        "outputId": "0fda8d23-21d0-4964-c1de-714fbc82991f"
      },
      "execution_count": 32,
      "outputs": [
        {
          "output_type": "stream",
          "name": "stdout",
          "text": [
            "#age\n",
            "Unigrams: girl,bullies,bullied,high,school\n",
            "Bigrams: girl bullied,girls bullied,school bully,bullied high,high school\n",
            "Trigrams: high school bullies,high school bully,girl bullied high,girls bullied high,bullied high school\n",
            "#ethnicity\n",
            "Unigrams: ass,niggers,fuck,nigger,dumb\n",
            "Bigrams: fuck obama,dumb fuck,ass nigger,dumb nigger,dumb ass\n",
            "Trigrams: fuck dumb nigger,tayyoung_ fuck obama,obama dumb ass,fuck obama dumb,dumb ass nigger\n",
            "#gender\n",
            "Unigrams: sexist,joke,jokes,gay,rape\n",
            "Bigrams: jokes rape,gay rape,gay jokes,rape joke,rape jokes\n",
            "Trigrams: gay rape joke,jokes rape jokes,jokes gay jokes,rape jokes gay,gay rape jokes\n",
            "#not_cyberbullying\n",
            "Unigrams: andre,http,que,bullying,mkr\n",
            "Bigrams: isso bullying,bullying http,mkr http,high school,kat andre\n",
            "Trigrams: obama dumb ass,fuck obama dumb,dumb ass nigger,bullied high school,kat amp andre\n",
            "#other_cyberbullying\n",
            "Unigrams: freebsdgirl,school,http,blameonenotall,https\n",
            "Bigrams: dumb nigger,bullied high,dumb ass,idiot https,high school\n",
            "Trigrams: tayyoung_ fuck obama,obama dumb ass,fuck obama dumb,dumb ass nigger,bullied high school\n",
            "#religion\n",
            "Unigrams: islamic,idiot,christian,muslim,muslims\n",
            "Bigrams: support radical,good christian,radical islamic,christian woman,islamic terrorism\n",
            "Trigrams: right christian woman,vandaliser sajid_fairooz israeliregime,christian woman right,good christian woman,radical islamic terrorism\n"
          ]
        }
      ]
    }
  ]
}